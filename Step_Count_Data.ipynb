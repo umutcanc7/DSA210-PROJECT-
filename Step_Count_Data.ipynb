{
  "nbformat": 4,
  "nbformat_minor": 0,
  "metadata": {
    "colab": {
      "provenance": [],
      "mount_file_id": "16gvh6c4VKnjeufRPzPoAPSEqvoRxz2Xm",
      "authorship_tag": "ABX9TyMqXcIpjLApFMzYVTGMoMvN",
      "include_colab_link": true
    },
    "kernelspec": {
      "name": "python3",
      "display_name": "Python 3"
    },
    "language_info": {
      "name": "python"
    }
  },
  "cells": [
    {
      "cell_type": "markdown",
      "metadata": {
        "id": "view-in-github",
        "colab_type": "text"
      },
      "source": [
        "<a href=\"https://colab.research.google.com/github/umutcanc7/DSA210-PROJECT-/blob/main/Step_Count_Data.ipynb\" target=\"_parent\"><img src=\"https://colab.research.google.com/assets/colab-badge.svg\" alt=\"Open In Colab\"/></a>"
      ]
    },
    {
      "cell_type": "code",
      "execution_count": 6,
      "metadata": {
        "colab": {
          "base_uri": "https://localhost:8080/"
        },
        "id": "tuOE04iKs9ze",
        "outputId": "e06a2a6d-1546-4603-eb39-f2e7ae28c4b2"
      },
      "outputs": [
        {
          "output_type": "stream",
          "name": "stdout",
          "text": [
            "Step counts have been saved to step_count.csv.\n"
          ]
        }
      ],
      "source": [
        "import csv\n",
        "from bs4 import BeautifulSoup\n",
        "from collections import defaultdict\n",
        "from datetime import datetime\n",
        "\n",
        "# File path to your XML file\n",
        "file_path = \"export.xml\"\n",
        "\n",
        "# Define the starting date\n",
        "start_date = datetime.strptime(\"22.07.2024\", \"%d.%m.%Y\").date()\n",
        "\n",
        "# Read the XML file\n",
        "with open(file_path, \"r\", encoding=\"utf-8\") as file:\n",
        "    xml_data = file.read()\n",
        "\n",
        "# Parse the XML data with BeautifulSoup\n",
        "soup = BeautifulSoup(xml_data, \"xml\")\n",
        "\n",
        "# Dictionary to store step counts grouped by date\n",
        "step_counts_by_date = defaultdict(int)\n",
        "\n",
        "# Iterate through step count records\n",
        "for record in soup.find_all(\"Record\", {\"type\": \"HKQuantityTypeIdentifierStepCount\"}):\n",
        "    record_date = record[\"startDate\"]\n",
        "    step_count = int(record[\"value\"])\n",
        "\n",
        "    # Extract only the date part (YYYY-MM-DD)\n",
        "    record_date = datetime.strptime(record_date.split(\" \")[0], \"%Y-%m-%d\").date()\n",
        "\n",
        "    # Only process records from the starting date onward\n",
        "    if record_date >= start_date:\n",
        "        step_counts_by_date[record_date] += step_count\n",
        "\n",
        "# Write the results to a CSV file\n",
        "csv_file_path = \"step_count.csv\"\n",
        "with open(csv_file_path, \"w\", newline=\"\", encoding=\"utf-8\") as csv_file:\n",
        "    csv_writer = csv.writer(csv_file)\n",
        "    csv_writer.writerow([\"Date\", \"Total Steps\"])  # Header row\n",
        "    for date, total_steps in sorted(step_counts_by_date.items()):\n",
        "        csv_writer.writerow([date, total_steps])\n",
        "\n",
        "print(f\"Step counts have been saved to {csv_file_path}.\")\n"
      ]
    }
  ]
}